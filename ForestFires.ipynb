{
 "cells": [
  {
   "cell_type": "markdown",
   "metadata": {},
   "source": [
    "**Algerian Forest Fires - When Are You At Risk?**"
   ]
  },
  {
   "cell_type": "markdown",
   "metadata": {},
   "source": [
    "**Introduction** \n",
    "\n",
    "A forest fire is the uncontrolled burning of plants in a natural setting such as a forest, that consumes natural fuels and spreads based on environmental conditions (“Forest Fires”, 2021). These fires can be caused by human actions, extreme drought, or lightning, and can have devastating effects on the environment and human life (“Forest Fires”, 2021). Some countries, such as Algeria, have higher instances of forest fires, as they have longer dry seasons and often lack the infrastructure to control such large fires (Meddour-Sahar, 2015). As such, predicting the onset of forest fires in these regions plays an integral role in the mitigation of this threat. \n",
    "\n",
    "For our project, we will predict when forest fires in Algeria will occur in the future, based on weather components. In particular, we want to know, “Under which weather conditions, considering relative humidity and temperature, are forest fires more likely to occur in the Bejaia region?” We will investigate this prediction by using the Algerian Forest Fires Dataset, which contains data from two regions of Algeria, but we will focus only on the Bejaia region in order to work with a more manageable data set. There are 11 total variables in this dataset, of which we will use Temperature and Humidity, as we expect these variables to have a significant effect on the the liklihood of forest fires taking place, and using only two variables aligns more with what we have covered in class. There are 122 total observations and the period of data collection is from June of 2012 to September of 2012."
   ]
  },
  {
   "cell_type": "markdown",
   "metadata": {},
   "source": [
    "**Preliminary Exploratory Data Analysis**"
   ]
  },
  {
   "cell_type": "code",
   "execution_count": 5,
   "metadata": {},
   "outputs": [
    {
     "name": "stderr",
     "output_type": "stream",
     "text": [
      "── \u001b[1mAttaching packages\u001b[22m ─────────────────────────────────────── tidyverse 1.3.0 ──\n",
      "\n",
      "\u001b[32m✔\u001b[39m \u001b[34mggplot2\u001b[39m 3.3.2     \u001b[32m✔\u001b[39m \u001b[34mpurrr  \u001b[39m 0.3.4\n",
      "\u001b[32m✔\u001b[39m \u001b[34mtibble \u001b[39m 3.0.3     \u001b[32m✔\u001b[39m \u001b[34mdplyr  \u001b[39m 1.0.2\n",
      "\u001b[32m✔\u001b[39m \u001b[34mtidyr  \u001b[39m 1.1.2     \u001b[32m✔\u001b[39m \u001b[34mstringr\u001b[39m 1.4.0\n",
      "\u001b[32m✔\u001b[39m \u001b[34mreadr  \u001b[39m 1.3.1     \u001b[32m✔\u001b[39m \u001b[34mforcats\u001b[39m 0.5.0\n",
      "\n",
      "Warning message:\n",
      "“package ‘ggplot2’ was built under R version 4.0.1”\n",
      "Warning message:\n",
      "“package ‘tibble’ was built under R version 4.0.2”\n",
      "Warning message:\n",
      "“package ‘tidyr’ was built under R version 4.0.2”\n",
      "Warning message:\n",
      "“package ‘dplyr’ was built under R version 4.0.2”\n",
      "── \u001b[1mConflicts\u001b[22m ────────────────────────────────────────── tidyverse_conflicts() ──\n",
      "\u001b[31m✖\u001b[39m \u001b[34mdplyr\u001b[39m::\u001b[32mfilter()\u001b[39m masks \u001b[34mstats\u001b[39m::filter()\n",
      "\u001b[31m✖\u001b[39m \u001b[34mdplyr\u001b[39m::\u001b[32mlag()\u001b[39m    masks \u001b[34mstats\u001b[39m::lag()\n",
      "\n",
      "Warning message:\n",
      "“package ‘tidymodels’ was built under R version 4.0.2”\n",
      "── \u001b[1mAttaching packages\u001b[22m ────────────────────────────────────── tidymodels 0.1.1 ──\n",
      "\n",
      "\u001b[32m✔\u001b[39m \u001b[34mbroom    \u001b[39m 0.7.0      \u001b[32m✔\u001b[39m \u001b[34mrecipes  \u001b[39m 0.1.13\n",
      "\u001b[32m✔\u001b[39m \u001b[34mdials    \u001b[39m 0.0.9      \u001b[32m✔\u001b[39m \u001b[34mrsample  \u001b[39m 0.0.7 \n",
      "\u001b[32m✔\u001b[39m \u001b[34minfer    \u001b[39m 0.5.4      \u001b[32m✔\u001b[39m \u001b[34mtune     \u001b[39m 0.1.1 \n",
      "\u001b[32m✔\u001b[39m \u001b[34mmodeldata\u001b[39m 0.0.2      \u001b[32m✔\u001b[39m \u001b[34mworkflows\u001b[39m 0.2.0 \n",
      "\u001b[32m✔\u001b[39m \u001b[34mparsnip  \u001b[39m 0.1.3      \u001b[32m✔\u001b[39m \u001b[34myardstick\u001b[39m 0.0.7 \n",
      "\n",
      "Warning message:\n",
      "“package ‘broom’ was built under R version 4.0.2”\n",
      "Warning message:\n",
      "“package ‘dials’ was built under R version 4.0.2”\n",
      "Warning message:\n",
      "“package ‘infer’ was built under R version 4.0.3”\n",
      "Warning message:\n",
      "“package ‘modeldata’ was built under R version 4.0.1”\n",
      "Warning message:\n",
      "“package ‘parsnip’ was built under R version 4.0.2”\n",
      "Warning message:\n",
      "“package ‘recipes’ was built under R version 4.0.1”\n",
      "Warning message:\n",
      "“package ‘tune’ was built under R version 4.0.2”\n",
      "Warning message:\n",
      "“package ‘workflows’ was built under R version 4.0.2”\n",
      "Warning message:\n",
      "“package ‘yardstick’ was built under R version 4.0.2”\n",
      "── \u001b[1mConflicts\u001b[22m ───────────────────────────────────────── tidymodels_conflicts() ──\n",
      "\u001b[31m✖\u001b[39m \u001b[34mscales\u001b[39m::\u001b[32mdiscard()\u001b[39m masks \u001b[34mpurrr\u001b[39m::discard()\n",
      "\u001b[31m✖\u001b[39m \u001b[34mdplyr\u001b[39m::\u001b[32mfilter()\u001b[39m   masks \u001b[34mstats\u001b[39m::filter()\n",
      "\u001b[31m✖\u001b[39m \u001b[34mrecipes\u001b[39m::\u001b[32mfixed()\u001b[39m  masks \u001b[34mstringr\u001b[39m::fixed()\n",
      "\u001b[31m✖\u001b[39m \u001b[34mdplyr\u001b[39m::\u001b[32mlag()\u001b[39m      masks \u001b[34mstats\u001b[39m::lag()\n",
      "\u001b[31m✖\u001b[39m \u001b[34myardstick\u001b[39m::\u001b[32mspec()\u001b[39m masks \u001b[34mreadr\u001b[39m::spec()\n",
      "\u001b[31m✖\u001b[39m \u001b[34mrecipes\u001b[39m::\u001b[32mstep()\u001b[39m   masks \u001b[34mstats\u001b[39m::step()\n",
      "\n"
     ]
    }
   ],
   "source": [
    "#load libraries\n",
    "library(readxl)\n",
    "library(tidyverse)\n",
    "library(tidymodels)\n",
    "library(dplyr)\n",
    "library(ggplot2)\n",
    "url <- \"https://archive.ics.uci.edu/ml/machine-learning-databases/00547/Algerian_forest_fires_dataset_UPDATE.csv\""
   ]
  },
  {
   "cell_type": "code",
   "execution_count": 6,
   "metadata": {},
   "outputs": [],
   "source": [
    "download.file(url, destfile = \"data/Algerian_forest_fires_dataset_UPDATE.csv\")"
   ]
  },
  {
   "cell_type": "code",
   "execution_count": 7,
   "metadata": {},
   "outputs": [
    {
     "name": "stderr",
     "output_type": "stream",
     "text": [
      "Parsed with column specification:\n",
      "cols(\n",
      "  day = \u001b[31mcol_character()\u001b[39m,\n",
      "  month = \u001b[31mcol_character()\u001b[39m,\n",
      "  year = \u001b[32mcol_double()\u001b[39m,\n",
      "  Temperature = \u001b[32mcol_double()\u001b[39m,\n",
      "  RH = \u001b[32mcol_double()\u001b[39m,\n",
      "  Ws = \u001b[32mcol_double()\u001b[39m,\n",
      "  Rain = \u001b[32mcol_double()\u001b[39m,\n",
      "  FFMC = \u001b[32mcol_double()\u001b[39m,\n",
      "  DMC = \u001b[32mcol_double()\u001b[39m,\n",
      "  DC = \u001b[32mcol_double()\u001b[39m,\n",
      "  ISI = \u001b[32mcol_double()\u001b[39m,\n",
      "  BUI = \u001b[32mcol_double()\u001b[39m,\n",
      "  FWI = \u001b[32mcol_double()\u001b[39m,\n",
      "  Classes = \u001b[31mcol_character()\u001b[39m\n",
      ")\n",
      "\n"
     ]
    }
   ],
   "source": [
    "#read data\n",
    "bejaia_basic <- read_csv(file = \"data/Algerian_forest_fires_dataset_UPDATE.csv\", skip=1, n_max=122) %>%\n",
    "mutate(Classes=as_factor(Classes))"
   ]
  },
  {
   "cell_type": "code",
   "execution_count": 8,
   "metadata": {},
   "outputs": [],
   "source": [
    "#tidy data\n",
    "bejaia_with_date <- tidyr::unite(bejaia_basic, \"Date\", year, month, day, remove = FALSE,sep = \"-\" ) #combine year, month and day to make date\n",
    "bejaia_tidy <- select(bejaia_with_date, Date, month, Temperature, RH, Ws, Rain, Classes) #select only variables we will be using"
   ]
  },
  {
   "cell_type": "code",
   "execution_count": 9,
   "metadata": {},
   "outputs": [
    {
     "name": "stdout",
     "output_type": "stream",
     "text": [
      "Rows: 93\n",
      "Columns: 7\n",
      "$ Date        \u001b[3m\u001b[90m<chr>\u001b[39m\u001b[23m \"2012-06-01\", \"2012-06-02\", \"2012-06-03\", \"2012-06-04\", \"…\n",
      "$ month       \u001b[3m\u001b[90m<chr>\u001b[39m\u001b[23m \"06\", \"06\", \"06\", \"06\", \"06\", \"06\", \"06\", \"06\", \"06\", \"06…\n",
      "$ Temperature \u001b[3m\u001b[90m<dbl>\u001b[39m\u001b[23m 29, 29, 26, 25, 27, 33, 30, 25, 26, 27, 29, 30, 31, 31, 3…\n",
      "$ RH          \u001b[3m\u001b[90m<dbl>\u001b[39m\u001b[23m 57, 61, 82, 89, 77, 54, 73, 88, 81, 84, 89, 89, 78, 55, 7…\n",
      "$ Ws          \u001b[3m\u001b[90m<dbl>\u001b[39m\u001b[23m 18, 13, 22, 13, 16, 13, 15, 13, 19, 21, 13, 16, 14, 16, 1…\n",
      "$ Rain        \u001b[3m\u001b[90m<dbl>\u001b[39m\u001b[23m 0.0, 1.3, 13.1, 2.5, 0.0, 0.0, 0.0, 0.2, 0.0, 1.2, 0.7, 0…\n",
      "$ Classes     \u001b[3m\u001b[90m<fct>\u001b[39m\u001b[23m not fire, not fire, not fire, not fire, not fire, fire, f…\n"
     ]
    }
   ],
   "source": [
    "#create the train/test split\n",
    "set.seed(1) #set seed in order to make code reproducible and ensure that it generates the same train/test split each time\n",
    "bejaia_split <- initial_split(bejaia_tidy, prop=0.75, strata=Classes) #create 75/25 train/test split to train an accurate model + get an accurate evaluation\n",
    "bejaia_train <- training(bejaia_split)\n",
    "bejaia_test <- training (bejaia_split)\n",
    "glimpse(bejaia_train)"
   ]
  },
  {
   "cell_type": "code",
   "execution_count": 10,
   "metadata": {},
   "outputs": [
    {
     "name": "stderr",
     "output_type": "stream",
     "text": [
      "`summarise()` ungrouping output (override with `.groups` argument)\n",
      "\n"
     ]
    },
    {
     "data": {
      "text/html": [
       "<table>\n",
       "<caption>A tibble: 2 × 3</caption>\n",
       "<thead>\n",
       "\t<tr><th scope=col>Classes</th><th scope=col>n</th><th scope=col>percentage</th></tr>\n",
       "\t<tr><th scope=col>&lt;fct&gt;</th><th scope=col>&lt;int&gt;</th><th scope=col>&lt;dbl&gt;</th></tr>\n",
       "</thead>\n",
       "<tbody>\n",
       "\t<tr><td>not fire</td><td>48</td><td>51.6129</td></tr>\n",
       "\t<tr><td>fire    </td><td>45</td><td>48.3871</td></tr>\n",
       "</tbody>\n",
       "</table>\n"
      ],
      "text/latex": [
       "A tibble: 2 × 3\n",
       "\\begin{tabular}{lll}\n",
       " Classes & n & percentage\\\\\n",
       " <fct> & <int> & <dbl>\\\\\n",
       "\\hline\n",
       "\t not fire & 48 & 51.6129\\\\\n",
       "\t fire     & 45 & 48.3871\\\\\n",
       "\\end{tabular}\n"
      ],
      "text/markdown": [
       "\n",
       "A tibble: 2 × 3\n",
       "\n",
       "| Classes &lt;fct&gt; | n &lt;int&gt; | percentage &lt;dbl&gt; |\n",
       "|---|---|---|\n",
       "| not fire | 48 | 51.6129 |\n",
       "| fire     | 45 | 48.3871 |\n",
       "\n"
      ],
      "text/plain": [
       "  Classes  n  percentage\n",
       "1 not fire 48 51.6129   \n",
       "2 fire     45 48.3871   "
      ]
     },
     "metadata": {},
     "output_type": "display_data"
    }
   ],
   "source": [
    "#summarize training data in a table\n",
    "num_obs <- nrow(bejaia_train)\n",
    "bejaia_train %>% group_by(Classes) %>% summarize(n=n(), percentage = n()/num_obs*100)"
   ]
  },
  {
   "cell_type": "markdown",
   "metadata": {},
   "source": [
    "The next two visualizations help us compare the distribution of our variables, Temperature and Relative Humidity. We used a bar chart for this because we are comparing a categorical variable - months - to a continuous variable - either temperature or humidity. A bar chart allows us to easily observe how temperature and humidity have changed each month, which can help us by seeing which conditions are more common in which months."
   ]
  },
  {
   "cell_type": "code",
   "execution_count": 18,
   "metadata": {},
   "outputs": [
    {
     "name": "stderr",
     "output_type": "stream",
     "text": [
      "`summarise()` ungrouping output (override with `.groups` argument)\n",
      "\n"
     ]
    },
    {
     "data": {
      "image/png": "[encoded data removed]",
      "text/plain": [
       "plot without title"
      ]
     },
     "metadata": {
      "image/png": {
       "height": 420,
       "width": 420
      }
     },
     "output_type": "display_data"
    }
   ],
   "source": [
    "#use training data to make a visualization comparing distribution of Temperature\n",
    "bejaia_average_1 <- bejaia_train %>% \n",
    "    group_by(month) %>% \n",
    "    summarize(Temperature = mean(Temperature, na.rm = TRUE)) #average daily temperatures to get an average temperature for each month\n",
    "\n",
    "bejaia_graph_1 <- ggplot(bejaia_average_1, aes(x=month, y=Temperature))+\n",
    "geom_bar(stat = \"identity\")+\n",
    "xlab(\"Month\")+\n",
    "ylab(\"Average Temperature (degrees Celsius)\")+\n",
    "theme(text = element_text(size = 18))\n",
    "bejaia_graph_1"
   ]
  },
  {
   "cell_type": "markdown",
   "metadata": {},
   "source": [
    "This chart shows that the months of June and September have the the lowest average temperature, and august having the highest temperature - if we were only using this variable we might say that fires are more likely to occur in August due to the higher temperature."
   ]
  },
  {
   "cell_type": "code",
   "execution_count": 17,
   "metadata": {},
   "outputs": [
    {
     "name": "stderr",
     "output_type": "stream",
     "text": [
      "`summarise()` ungrouping output (override with `.groups` argument)\n",
      "\n"
     ]
    },
    {
     "data": {
      "image/png": "[encoded data removed]",
      "text/plain": [
       "plot without title"
      ]
     },
     "metadata": {
      "image/png": {
       "height": 420,
       "width": 420
      }
     },
     "output_type": "display_data"
    }
   ],
   "source": [
    "#use training data to make a visualization comparing distribution of Relative Humidity\n",
    "bejaia_average_2 <- bejaia_train %>% \n",
    "    group_by(month) %>% \n",
    "    summarize(RH = mean(RH, na.rm = TRUE)) #average daily relative humidity to get an average RH for each month\n",
    "\n",
    "bejaia_graph_2 <- ggplot(bejaia_average_2, aes(x=month, y=RH))+\n",
    "geom_bar(stat = \"identity\")+\n",
    "xlab(\"Month\")+\n",
    "ylab(\"Relative Humidity (%)\")+\n",
    "theme(text = element_text(size = 18))\n",
    "bejaia_graph_2"
   ]
  },
  {
   "cell_type": "markdown",
   "metadata": {},
   "source": [
    "The plot shows us that August has the lowest relative humidity and July has the highest, with June and September only marginally lower. Only looking at relative humidity, it seems that August would have the most fires. \n"
   ]
  },
  {
   "cell_type": "markdown",
   "metadata": {},
   "source": [
    "Looking at both graphs, the month of August not only has the highest temperature, but also has the lowest relative humidity - meaning that using these two predictors fires are more likely to occur in August. "
   ]
  },
  {
   "cell_type": "code",
   "execution_count": 28,
   "metadata": {},
   "outputs": [
    {
     "data": {
      "image/png": "[encoded data removed]",
      "text/plain": [
       "plot without title"
      ]
     },
     "metadata": {
      "image/png": {
       "height": 840,
       "width": 840
      }
     },
     "output_type": "display_data"
    }
   ],
   "source": [
    "#Create a scatterplot to visualize the relationship between our two variables, Temperature and Relative Humidity\n",
    "\n",
    "cbPalette <- c(\"#E69F00\", \"#56B4E9\", \"#009E73\", \"#F0E442\", \"#0072B2\", \"#D55E00\", \"#CC79A7\", \"#999999\")\n",
    "options(repr.plot.width = 14, repr.plot.height = 14)\n",
    "fire_plot <- bejaia_tidy %>%\n",
    "ggplot(aes(x = Temperature, y = RH, color = Classes, shape = month)) +\n",
    "geom_point(alpha = 0.5, size = 3) +\n",
    "labs(x=\"Relative Humidity (%)\", y= \"Temperature (degrees Celsius)\", color = \"Fire or Not Fire\", shape = \"Month\") +\n",
    "scale_color_manual(labels = c(\"Fire\", \"Not Fire\"), values = cbPalette) +\n",
    "theme(text = element_text(size = 18))\n",
    "fire_plot"
   ]
  },
  {
   "cell_type": "markdown",
   "metadata": {},
   "source": [
    "**Methods**\n",
    "\n",
    "For our data analysis, we will use weather data observations, including the variables Relative Humidity (RH) and Temperature to predict when forest fires are more likely to occur in the Bejaia region. We omitted the variables from the FWI components, which are derived from the weather data observations. To answer our question, we will use these variables to perform classification and predict when forest fires are more likely to occur. \n"
   ]
  },
  {
   "cell_type": "code",
   "execution_count": 13,
   "metadata": {},
   "outputs": [],
   "source": [
    "#preprocess data\n",
    "fire_recipe <- recipe(Classes ~ Temperature, RH, data = bejaia_train) %>%\n",
    "  step_scale(all_predictors()) %>%\n",
    "  step_center(all_predictors())"
   ]
  },
  {
   "cell_type": "code",
   "execution_count": 14,
   "metadata": {},
   "outputs": [
    {
     "data": {
      "text/plain": [
       "══ Workflow [trained] ══════════════════════════════════════════════════════════\n",
       "\u001b[3mPreprocessor:\u001b[23m Recipe\n",
       "\u001b[3mModel:\u001b[23m nearest_neighbor()\n",
       "\n",
       "── Preprocessor ────────────────────────────────────────────────────────────────\n",
       "2 Recipe Steps\n",
       "\n",
       "● step_scale()\n",
       "● step_center()\n",
       "\n",
       "── Model ───────────────────────────────────────────────────────────────────────\n",
       "\n",
       "Call:\n",
       "kknn::train.kknn(formula = ..y ~ ., data = data, ks = ~3, kernel = ~\"rectangular\")\n",
       "\n",
       "Type of response variable: nominal\n",
       "Minimal misclassification: 0.3655914\n",
       "Best kernel: rectangular\n",
       "Best k: 3"
      ]
     },
     "metadata": {},
     "output_type": "display_data"
    }
   ],
   "source": [
    "#train the classifier\n",
    "set.seed(1)\n",
    "knn_spec <- nearest_neighbor(weight_func = \"rectangular\", neighbors = 3) %>%\n",
    "  set_engine(\"kknn\") %>%\n",
    "  set_mode(\"classification\")\n",
    "\n",
    "knn_fit <- workflow() %>%\n",
    "  add_recipe(fire_recipe) %>%\n",
    "  add_model(knn_spec) %>%\n",
    "  fit(data = bejaia_train)\n",
    "knn_fit"
   ]
  },
  {
   "cell_type": "code",
   "execution_count": 15,
   "metadata": {},
   "outputs": [
    {
     "data": {
      "text/html": [
       "<table>\n",
       "<caption>A tibble: 93 × 8</caption>\n",
       "<thead>\n",
       "\t<tr><th scope=col>.pred_class</th><th scope=col>Date</th><th scope=col>month</th><th scope=col>Temperature</th><th scope=col>RH</th><th scope=col>Ws</th><th scope=col>Rain</th><th scope=col>Classes</th></tr>\n",
       "\t<tr><th scope=col>&lt;fct&gt;</th><th scope=col>&lt;chr&gt;</th><th scope=col>&lt;chr&gt;</th><th scope=col>&lt;dbl&gt;</th><th scope=col>&lt;dbl&gt;</th><th scope=col>&lt;dbl&gt;</th><th scope=col>&lt;dbl&gt;</th><th scope=col>&lt;fct&gt;</th></tr>\n",
       "</thead>\n",
       "<tbody>\n",
       "\t<tr><td>not fire</td><td>2012-06-01</td><td>06</td><td>29</td><td>57</td><td>18</td><td> 0.0</td><td>not fire</td></tr>\n",
       "\t<tr><td>not fire</td><td>2012-06-02</td><td>06</td><td>29</td><td>61</td><td>13</td><td> 1.3</td><td>not fire</td></tr>\n",
       "\t<tr><td>not fire</td><td>2012-06-03</td><td>06</td><td>26</td><td>82</td><td>22</td><td>13.1</td><td>not fire</td></tr>\n",
       "\t<tr><td>not fire</td><td>2012-06-04</td><td>06</td><td>25</td><td>89</td><td>13</td><td> 2.5</td><td>not fire</td></tr>\n",
       "\t<tr><td>not fire</td><td>2012-06-05</td><td>06</td><td>27</td><td>77</td><td>16</td><td> 0.0</td><td>not fire</td></tr>\n",
       "\t<tr><td>fire    </td><td>2012-06-07</td><td>06</td><td>33</td><td>54</td><td>13</td><td> 0.0</td><td>fire    </td></tr>\n",
       "\t<tr><td>fire    </td><td>2012-06-08</td><td>06</td><td>30</td><td>73</td><td>15</td><td> 0.0</td><td>fire    </td></tr>\n",
       "\t<tr><td>not fire</td><td>2012-06-09</td><td>06</td><td>25</td><td>88</td><td>13</td><td> 0.2</td><td>not fire</td></tr>\n",
       "\t<tr><td>not fire</td><td>2012-06-12</td><td>06</td><td>26</td><td>81</td><td>19</td><td> 0.0</td><td>fire    </td></tr>\n",
       "\t<tr><td>not fire</td><td>2012-06-13</td><td>06</td><td>27</td><td>84</td><td>21</td><td> 1.2</td><td>not fire</td></tr>\n",
       "\t<tr><td>not fire</td><td>2012-06-16</td><td>06</td><td>29</td><td>89</td><td>13</td><td> 0.7</td><td>not fire</td></tr>\n",
       "\t<tr><td>fire    </td><td>2012-06-17</td><td>06</td><td>30</td><td>89</td><td>16</td><td> 0.6</td><td>not fire</td></tr>\n",
       "\t<tr><td>not fire</td><td>2012-06-18</td><td>06</td><td>31</td><td>78</td><td>14</td><td> 0.3</td><td>not fire</td></tr>\n",
       "\t<tr><td>not fire</td><td>2012-06-19</td><td>06</td><td>31</td><td>55</td><td>16</td><td> 0.1</td><td>not fire</td></tr>\n",
       "\t<tr><td>fire    </td><td>2012-06-21</td><td>06</td><td>30</td><td>78</td><td>14</td><td> 0.0</td><td>fire    </td></tr>\n",
       "\t<tr><td>not fire</td><td>2012-06-22</td><td>06</td><td>31</td><td>67</td><td>17</td><td> 0.1</td><td>not fire</td></tr>\n",
       "\t<tr><td>fire    </td><td>2012-06-23</td><td>06</td><td>32</td><td>62</td><td>18</td><td> 0.1</td><td>fire    </td></tr>\n",
       "\t<tr><td>fire    </td><td>2012-06-24</td><td>06</td><td>32</td><td>66</td><td>17</td><td> 0.0</td><td>fire    </td></tr>\n",
       "\t<tr><td>not fire</td><td>2012-06-25</td><td>06</td><td>31</td><td>64</td><td>15</td><td> 0.0</td><td>fire    </td></tr>\n",
       "\t<tr><td>not fire</td><td>2012-06-26</td><td>06</td><td>31</td><td>64</td><td>18</td><td> 0.0</td><td>fire    </td></tr>\n",
       "\t<tr><td>not fire</td><td>2012-06-27</td><td>06</td><td>34</td><td>53</td><td>18</td><td> 0.0</td><td>fire    </td></tr>\n",
       "\t<tr><td>fire    </td><td>2012-06-28</td><td>06</td><td>32</td><td>55</td><td>14</td><td> 0.0</td><td>fire    </td></tr>\n",
       "\t<tr><td>fire    </td><td>2012-06-29</td><td>06</td><td>32</td><td>47</td><td>13</td><td> 0.3</td><td>not fire</td></tr>\n",
       "\t<tr><td>fire    </td><td>2012-06-30</td><td>06</td><td>33</td><td>50</td><td>14</td><td> 0.0</td><td>fire    </td></tr>\n",
       "\t<tr><td>not fire</td><td>2012-07-01</td><td>07</td><td>29</td><td>68</td><td>19</td><td> 1.0</td><td>not fire</td></tr>\n",
       "\t<tr><td>not fire</td><td>2012-07-02</td><td>07</td><td>27</td><td>75</td><td>19</td><td> 1.2</td><td>not fire</td></tr>\n",
       "\t<tr><td>fire    </td><td>2012-07-03</td><td>07</td><td>32</td><td>76</td><td>20</td><td> 0.7</td><td>not fire</td></tr>\n",
       "\t<tr><td>fire    </td><td>2012-07-06</td><td>07</td><td>32</td><td>63</td><td>14</td><td> 0.0</td><td>fire    </td></tr>\n",
       "\t<tr><td>fire    </td><td>2012-07-07</td><td>07</td><td>35</td><td>64</td><td>18</td><td> 0.2</td><td>not fire</td></tr>\n",
       "\t<tr><td>fire    </td><td>2012-07-08</td><td>07</td><td>33</td><td>68</td><td>19</td><td> 0.0</td><td>fire    </td></tr>\n",
       "\t<tr><td>⋮</td><td>⋮</td><td>⋮</td><td>⋮</td><td>⋮</td><td>⋮</td><td>⋮</td><td>⋮</td></tr>\n",
       "\t<tr><td>fire    </td><td>2012-08-22</td><td>08</td><td>36</td><td>55</td><td>18</td><td> 0.0</td><td>fire    </td></tr>\n",
       "\t<tr><td>not fire</td><td>2012-08-24</td><td>08</td><td>34</td><td>64</td><td>14</td><td> 0.0</td><td>fire    </td></tr>\n",
       "\t<tr><td>fire    </td><td>2012-08-25</td><td>08</td><td>35</td><td>60</td><td>15</td><td> 0.0</td><td>fire    </td></tr>\n",
       "\t<tr><td>fire    </td><td>2012-08-27</td><td>08</td><td>33</td><td>82</td><td>21</td><td> 0.0</td><td>fire    </td></tr>\n",
       "\t<tr><td>not fire</td><td>2012-08-28</td><td>08</td><td>34</td><td>64</td><td>16</td><td> 0.0</td><td>fire    </td></tr>\n",
       "\t<tr><td>fire    </td><td>2012-08-29</td><td>08</td><td>35</td><td>48</td><td>18</td><td> 0.0</td><td>fire    </td></tr>\n",
       "\t<tr><td>fire    </td><td>2012-08-30</td><td>08</td><td>35</td><td>70</td><td>17</td><td> 0.8</td><td>not fire</td></tr>\n",
       "\t<tr><td>not fire</td><td>2012-08-31</td><td>08</td><td>28</td><td>80</td><td>21</td><td>16.8</td><td>not fire</td></tr>\n",
       "\t<tr><td>not fire</td><td>2012-09-03</td><td>09</td><td>25</td><td>78</td><td>15</td><td> 3.8</td><td>not fire</td></tr>\n",
       "\t<tr><td>not fire</td><td>2012-09-05</td><td>09</td><td>29</td><td>75</td><td>16</td><td> 0.0</td><td>fire    </td></tr>\n",
       "\t<tr><td>not fire</td><td>2012-09-06</td><td>09</td><td>29</td><td>74</td><td>19</td><td> 0.1</td><td>not fire</td></tr>\n",
       "\t<tr><td>fire    </td><td>2012-09-08</td><td>09</td><td>30</td><td>73</td><td>17</td><td> 0.9</td><td>not fire</td></tr>\n",
       "\t<tr><td>fire    </td><td>2012-09-09</td><td>09</td><td>30</td><td>77</td><td>15</td><td> 1.0</td><td>not fire</td></tr>\n",
       "\t<tr><td>fire    </td><td>2012-09-10</td><td>09</td><td>33</td><td>73</td><td>12</td><td> 1.8</td><td>not fire</td></tr>\n",
       "\t<tr><td>fire    </td><td>2012-09-11</td><td>09</td><td>30</td><td>77</td><td>21</td><td> 1.8</td><td>not fire</td></tr>\n",
       "\t<tr><td>not fire</td><td>2012-09-12</td><td>09</td><td>29</td><td>88</td><td>13</td><td> 0.0</td><td>not fire</td></tr>\n",
       "\t<tr><td>not fire</td><td>2012-09-13</td><td>09</td><td>25</td><td>86</td><td>21</td><td> 4.6</td><td>not fire</td></tr>\n",
       "\t<tr><td>not fire</td><td>2012-09-14</td><td>09</td><td>22</td><td>76</td><td>26</td><td> 8.3</td><td>not fire</td></tr>\n",
       "\t<tr><td>fire    </td><td>2012-09-16</td><td>09</td><td>30</td><td>65</td><td>14</td><td> 0.0</td><td>not fire</td></tr>\n",
       "\t<tr><td>not fire</td><td>2012-09-17</td><td>09</td><td>31</td><td>52</td><td>14</td><td> 0.0</td><td>fire    </td></tr>\n",
       "\t<tr><td>fire    </td><td>2012-09-18</td><td>09</td><td>32</td><td>49</td><td>11</td><td> 0.0</td><td>fire    </td></tr>\n",
       "\t<tr><td>not fire</td><td>2012-09-19</td><td>09</td><td>29</td><td>57</td><td>14</td><td> 0.0</td><td>fire    </td></tr>\n",
       "\t<tr><td>not fire</td><td>2012-09-21</td><td>09</td><td>31</td><td>55</td><td>11</td><td> 0.0</td><td>fire    </td></tr>\n",
       "\t<tr><td>fire    </td><td>2012-09-23</td><td>09</td><td>32</td><td>54</td><td>11</td><td> 0.5</td><td>not fire</td></tr>\n",
       "\t<tr><td>not fire</td><td>2012-09-25</td><td>09</td><td>26</td><td>81</td><td>21</td><td> 5.8</td><td>not fire</td></tr>\n",
       "\t<tr><td>not fire</td><td>2012-09-26</td><td>09</td><td>31</td><td>54</td><td>11</td><td> 0.0</td><td>not fire</td></tr>\n",
       "\t<tr><td>not fire</td><td>2012-09-27</td><td>09</td><td>31</td><td>66</td><td>11</td><td> 0.0</td><td>fire    </td></tr>\n",
       "\t<tr><td>fire    </td><td>2012-09-28</td><td>09</td><td>32</td><td>47</td><td>14</td><td> 0.7</td><td>not fire</td></tr>\n",
       "\t<tr><td>not fire</td><td>2012-09-29</td><td>09</td><td>26</td><td>80</td><td>16</td><td> 1.8</td><td>not fire</td></tr>\n",
       "\t<tr><td>not fire</td><td>2012-09-30</td><td>09</td><td>25</td><td>78</td><td>14</td><td> 1.4</td><td>not fire</td></tr>\n",
       "</tbody>\n",
       "</table>\n"
      ],
      "text/latex": [
       "A tibble: 93 × 8\n",
       "\\begin{tabular}{llllllll}\n",
       " .pred\\_class & Date & month & Temperature & RH & Ws & Rain & Classes\\\\\n",
       " <fct> & <chr> & <chr> & <dbl> & <dbl> & <dbl> & <dbl> & <fct>\\\\\n",
       "\\hline\n",
       "\t not fire & 2012-06-01 & 06 & 29 & 57 & 18 &  0.0 & not fire\\\\\n",
       "\t not fire & 2012-06-02 & 06 & 29 & 61 & 13 &  1.3 & not fire\\\\\n",
       "\t not fire & 2012-06-03 & 06 & 26 & 82 & 22 & 13.1 & not fire\\\\\n",
       "\t not fire & 2012-06-04 & 06 & 25 & 89 & 13 &  2.5 & not fire\\\\\n",
       "\t not fire & 2012-06-05 & 06 & 27 & 77 & 16 &  0.0 & not fire\\\\\n",
       "\t fire     & 2012-06-07 & 06 & 33 & 54 & 13 &  0.0 & fire    \\\\\n",
       "\t fire     & 2012-06-08 & 06 & 30 & 73 & 15 &  0.0 & fire    \\\\\n",
       "\t not fire & 2012-06-09 & 06 & 25 & 88 & 13 &  0.2 & not fire\\\\\n",
       "\t not fire & 2012-06-12 & 06 & 26 & 81 & 19 &  0.0 & fire    \\\\\n",
       "\t not fire & 2012-06-13 & 06 & 27 & 84 & 21 &  1.2 & not fire\\\\\n",
       "\t not fire & 2012-06-16 & 06 & 29 & 89 & 13 &  0.7 & not fire\\\\\n",
       "\t fire     & 2012-06-17 & 06 & 30 & 89 & 16 &  0.6 & not fire\\\\\n",
       "\t not fire & 2012-06-18 & 06 & 31 & 78 & 14 &  0.3 & not fire\\\\\n",
       "\t not fire & 2012-06-19 & 06 & 31 & 55 & 16 &  0.1 & not fire\\\\\n",
       "\t fire     & 2012-06-21 & 06 & 30 & 78 & 14 &  0.0 & fire    \\\\\n",
       "\t not fire & 2012-06-22 & 06 & 31 & 67 & 17 &  0.1 & not fire\\\\\n",
       "\t fire     & 2012-06-23 & 06 & 32 & 62 & 18 &  0.1 & fire    \\\\\n",
       "\t fire     & 2012-06-24 & 06 & 32 & 66 & 17 &  0.0 & fire    \\\\\n",
       "\t not fire & 2012-06-25 & 06 & 31 & 64 & 15 &  0.0 & fire    \\\\\n",
       "\t not fire & 2012-06-26 & 06 & 31 & 64 & 18 &  0.0 & fire    \\\\\n",
       "\t not fire & 2012-06-27 & 06 & 34 & 53 & 18 &  0.0 & fire    \\\\\n",
       "\t fire     & 2012-06-28 & 06 & 32 & 55 & 14 &  0.0 & fire    \\\\\n",
       "\t fire     & 2012-06-29 & 06 & 32 & 47 & 13 &  0.3 & not fire\\\\\n",
       "\t fire     & 2012-06-30 & 06 & 33 & 50 & 14 &  0.0 & fire    \\\\\n",
       "\t not fire & 2012-07-01 & 07 & 29 & 68 & 19 &  1.0 & not fire\\\\\n",
       "\t not fire & 2012-07-02 & 07 & 27 & 75 & 19 &  1.2 & not fire\\\\\n",
       "\t fire     & 2012-07-03 & 07 & 32 & 76 & 20 &  0.7 & not fire\\\\\n",
       "\t fire     & 2012-07-06 & 07 & 32 & 63 & 14 &  0.0 & fire    \\\\\n",
       "\t fire     & 2012-07-07 & 07 & 35 & 64 & 18 &  0.2 & not fire\\\\\n",
       "\t fire     & 2012-07-08 & 07 & 33 & 68 & 19 &  0.0 & fire    \\\\\n",
       "\t ⋮ & ⋮ & ⋮ & ⋮ & ⋮ & ⋮ & ⋮ & ⋮\\\\\n",
       "\t fire     & 2012-08-22 & 08 & 36 & 55 & 18 &  0.0 & fire    \\\\\n",
       "\t not fire & 2012-08-24 & 08 & 34 & 64 & 14 &  0.0 & fire    \\\\\n",
       "\t fire     & 2012-08-25 & 08 & 35 & 60 & 15 &  0.0 & fire    \\\\\n",
       "\t fire     & 2012-08-27 & 08 & 33 & 82 & 21 &  0.0 & fire    \\\\\n",
       "\t not fire & 2012-08-28 & 08 & 34 & 64 & 16 &  0.0 & fire    \\\\\n",
       "\t fire     & 2012-08-29 & 08 & 35 & 48 & 18 &  0.0 & fire    \\\\\n",
       "\t fire     & 2012-08-30 & 08 & 35 & 70 & 17 &  0.8 & not fire\\\\\n",
       "\t not fire & 2012-08-31 & 08 & 28 & 80 & 21 & 16.8 & not fire\\\\\n",
       "\t not fire & 2012-09-03 & 09 & 25 & 78 & 15 &  3.8 & not fire\\\\\n",
       "\t not fire & 2012-09-05 & 09 & 29 & 75 & 16 &  0.0 & fire    \\\\\n",
       "\t not fire & 2012-09-06 & 09 & 29 & 74 & 19 &  0.1 & not fire\\\\\n",
       "\t fire     & 2012-09-08 & 09 & 30 & 73 & 17 &  0.9 & not fire\\\\\n",
       "\t fire     & 2012-09-09 & 09 & 30 & 77 & 15 &  1.0 & not fire\\\\\n",
       "\t fire     & 2012-09-10 & 09 & 33 & 73 & 12 &  1.8 & not fire\\\\\n",
       "\t fire     & 2012-09-11 & 09 & 30 & 77 & 21 &  1.8 & not fire\\\\\n",
       "\t not fire & 2012-09-12 & 09 & 29 & 88 & 13 &  0.0 & not fire\\\\\n",
       "\t not fire & 2012-09-13 & 09 & 25 & 86 & 21 &  4.6 & not fire\\\\\n",
       "\t not fire & 2012-09-14 & 09 & 22 & 76 & 26 &  8.3 & not fire\\\\\n",
       "\t fire     & 2012-09-16 & 09 & 30 & 65 & 14 &  0.0 & not fire\\\\\n",
       "\t not fire & 2012-09-17 & 09 & 31 & 52 & 14 &  0.0 & fire    \\\\\n",
       "\t fire     & 2012-09-18 & 09 & 32 & 49 & 11 &  0.0 & fire    \\\\\n",
       "\t not fire & 2012-09-19 & 09 & 29 & 57 & 14 &  0.0 & fire    \\\\\n",
       "\t not fire & 2012-09-21 & 09 & 31 & 55 & 11 &  0.0 & fire    \\\\\n",
       "\t fire     & 2012-09-23 & 09 & 32 & 54 & 11 &  0.5 & not fire\\\\\n",
       "\t not fire & 2012-09-25 & 09 & 26 & 81 & 21 &  5.8 & not fire\\\\\n",
       "\t not fire & 2012-09-26 & 09 & 31 & 54 & 11 &  0.0 & not fire\\\\\n",
       "\t not fire & 2012-09-27 & 09 & 31 & 66 & 11 &  0.0 & fire    \\\\\n",
       "\t fire     & 2012-09-28 & 09 & 32 & 47 & 14 &  0.7 & not fire\\\\\n",
       "\t not fire & 2012-09-29 & 09 & 26 & 80 & 16 &  1.8 & not fire\\\\\n",
       "\t not fire & 2012-09-30 & 09 & 25 & 78 & 14 &  1.4 & not fire\\\\\n",
       "\\end{tabular}\n"
      ],
      "text/markdown": [
       "\n",
       "A tibble: 93 × 8\n",
       "\n",
       "| .pred_class &lt;fct&gt; | Date &lt;chr&gt; | month &lt;chr&gt; | Temperature &lt;dbl&gt; | RH &lt;dbl&gt; | Ws &lt;dbl&gt; | Rain &lt;dbl&gt; | Classes &lt;fct&gt; |\n",
       "|---|---|---|---|---|---|---|---|\n",
       "| not fire | 2012-06-01 | 06 | 29 | 57 | 18 |  0.0 | not fire |\n",
       "| not fire | 2012-06-02 | 06 | 29 | 61 | 13 |  1.3 | not fire |\n",
       "| not fire | 2012-06-03 | 06 | 26 | 82 | 22 | 13.1 | not fire |\n",
       "| not fire | 2012-06-04 | 06 | 25 | 89 | 13 |  2.5 | not fire |\n",
       "| not fire | 2012-06-05 | 06 | 27 | 77 | 16 |  0.0 | not fire |\n",
       "| fire     | 2012-06-07 | 06 | 33 | 54 | 13 |  0.0 | fire     |\n",
       "| fire     | 2012-06-08 | 06 | 30 | 73 | 15 |  0.0 | fire     |\n",
       "| not fire | 2012-06-09 | 06 | 25 | 88 | 13 |  0.2 | not fire |\n",
       "| not fire | 2012-06-12 | 06 | 26 | 81 | 19 |  0.0 | fire     |\n",
       "| not fire | 2012-06-13 | 06 | 27 | 84 | 21 |  1.2 | not fire |\n",
       "| not fire | 2012-06-16 | 06 | 29 | 89 | 13 |  0.7 | not fire |\n",
       "| fire     | 2012-06-17 | 06 | 30 | 89 | 16 |  0.6 | not fire |\n",
       "| not fire | 2012-06-18 | 06 | 31 | 78 | 14 |  0.3 | not fire |\n",
       "| not fire | 2012-06-19 | 06 | 31 | 55 | 16 |  0.1 | not fire |\n",
       "| fire     | 2012-06-21 | 06 | 30 | 78 | 14 |  0.0 | fire     |\n",
       "| not fire | 2012-06-22 | 06 | 31 | 67 | 17 |  0.1 | not fire |\n",
       "| fire     | 2012-06-23 | 06 | 32 | 62 | 18 |  0.1 | fire     |\n",
       "| fire     | 2012-06-24 | 06 | 32 | 66 | 17 |  0.0 | fire     |\n",
       "| not fire | 2012-06-25 | 06 | 31 | 64 | 15 |  0.0 | fire     |\n",
       "| not fire | 2012-06-26 | 06 | 31 | 64 | 18 |  0.0 | fire     |\n",
       "| not fire | 2012-06-27 | 06 | 34 | 53 | 18 |  0.0 | fire     |\n",
       "| fire     | 2012-06-28 | 06 | 32 | 55 | 14 |  0.0 | fire     |\n",
       "| fire     | 2012-06-29 | 06 | 32 | 47 | 13 |  0.3 | not fire |\n",
       "| fire     | 2012-06-30 | 06 | 33 | 50 | 14 |  0.0 | fire     |\n",
       "| not fire | 2012-07-01 | 07 | 29 | 68 | 19 |  1.0 | not fire |\n",
       "| not fire | 2012-07-02 | 07 | 27 | 75 | 19 |  1.2 | not fire |\n",
       "| fire     | 2012-07-03 | 07 | 32 | 76 | 20 |  0.7 | not fire |\n",
       "| fire     | 2012-07-06 | 07 | 32 | 63 | 14 |  0.0 | fire     |\n",
       "| fire     | 2012-07-07 | 07 | 35 | 64 | 18 |  0.2 | not fire |\n",
       "| fire     | 2012-07-08 | 07 | 33 | 68 | 19 |  0.0 | fire     |\n",
       "| ⋮ | ⋮ | ⋮ | ⋮ | ⋮ | ⋮ | ⋮ | ⋮ |\n",
       "| fire     | 2012-08-22 | 08 | 36 | 55 | 18 |  0.0 | fire     |\n",
       "| not fire | 2012-08-24 | 08 | 34 | 64 | 14 |  0.0 | fire     |\n",
       "| fire     | 2012-08-25 | 08 | 35 | 60 | 15 |  0.0 | fire     |\n",
       "| fire     | 2012-08-27 | 08 | 33 | 82 | 21 |  0.0 | fire     |\n",
       "| not fire | 2012-08-28 | 08 | 34 | 64 | 16 |  0.0 | fire     |\n",
       "| fire     | 2012-08-29 | 08 | 35 | 48 | 18 |  0.0 | fire     |\n",
       "| fire     | 2012-08-30 | 08 | 35 | 70 | 17 |  0.8 | not fire |\n",
       "| not fire | 2012-08-31 | 08 | 28 | 80 | 21 | 16.8 | not fire |\n",
       "| not fire | 2012-09-03 | 09 | 25 | 78 | 15 |  3.8 | not fire |\n",
       "| not fire | 2012-09-05 | 09 | 29 | 75 | 16 |  0.0 | fire     |\n",
       "| not fire | 2012-09-06 | 09 | 29 | 74 | 19 |  0.1 | not fire |\n",
       "| fire     | 2012-09-08 | 09 | 30 | 73 | 17 |  0.9 | not fire |\n",
       "| fire     | 2012-09-09 | 09 | 30 | 77 | 15 |  1.0 | not fire |\n",
       "| fire     | 2012-09-10 | 09 | 33 | 73 | 12 |  1.8 | not fire |\n",
       "| fire     | 2012-09-11 | 09 | 30 | 77 | 21 |  1.8 | not fire |\n",
       "| not fire | 2012-09-12 | 09 | 29 | 88 | 13 |  0.0 | not fire |\n",
       "| not fire | 2012-09-13 | 09 | 25 | 86 | 21 |  4.6 | not fire |\n",
       "| not fire | 2012-09-14 | 09 | 22 | 76 | 26 |  8.3 | not fire |\n",
       "| fire     | 2012-09-16 | 09 | 30 | 65 | 14 |  0.0 | not fire |\n",
       "| not fire | 2012-09-17 | 09 | 31 | 52 | 14 |  0.0 | fire     |\n",
       "| fire     | 2012-09-18 | 09 | 32 | 49 | 11 |  0.0 | fire     |\n",
       "| not fire | 2012-09-19 | 09 | 29 | 57 | 14 |  0.0 | fire     |\n",
       "| not fire | 2012-09-21 | 09 | 31 | 55 | 11 |  0.0 | fire     |\n",
       "| fire     | 2012-09-23 | 09 | 32 | 54 | 11 |  0.5 | not fire |\n",
       "| not fire | 2012-09-25 | 09 | 26 | 81 | 21 |  5.8 | not fire |\n",
       "| not fire | 2012-09-26 | 09 | 31 | 54 | 11 |  0.0 | not fire |\n",
       "| not fire | 2012-09-27 | 09 | 31 | 66 | 11 |  0.0 | fire     |\n",
       "| fire     | 2012-09-28 | 09 | 32 | 47 | 14 |  0.7 | not fire |\n",
       "| not fire | 2012-09-29 | 09 | 26 | 80 | 16 |  1.8 | not fire |\n",
       "| not fire | 2012-09-30 | 09 | 25 | 78 | 14 |  1.4 | not fire |\n",
       "\n"
      ],
      "text/plain": [
       "   .pred_class Date       month Temperature RH Ws Rain Classes \n",
       "1  not fire    2012-06-01 06    29          57 18  0.0 not fire\n",
       "2  not fire    2012-06-02 06    29          61 13  1.3 not fire\n",
       "3  not fire    2012-06-03 06    26          82 22 13.1 not fire\n",
       "4  not fire    2012-06-04 06    25          89 13  2.5 not fire\n",
       "5  not fire    2012-06-05 06    27          77 16  0.0 not fire\n",
       "6  fire        2012-06-07 06    33          54 13  0.0 fire    \n",
       "7  fire        2012-06-08 06    30          73 15  0.0 fire    \n",
       "8  not fire    2012-06-09 06    25          88 13  0.2 not fire\n",
       "9  not fire    2012-06-12 06    26          81 19  0.0 fire    \n",
       "10 not fire    2012-06-13 06    27          84 21  1.2 not fire\n",
       "11 not fire    2012-06-16 06    29          89 13  0.7 not fire\n",
       "12 fire        2012-06-17 06    30          89 16  0.6 not fire\n",
       "13 not fire    2012-06-18 06    31          78 14  0.3 not fire\n",
       "14 not fire    2012-06-19 06    31          55 16  0.1 not fire\n",
       "15 fire        2012-06-21 06    30          78 14  0.0 fire    \n",
       "16 not fire    2012-06-22 06    31          67 17  0.1 not fire\n",
       "17 fire        2012-06-23 06    32          62 18  0.1 fire    \n",
       "18 fire        2012-06-24 06    32          66 17  0.0 fire    \n",
       "19 not fire    2012-06-25 06    31          64 15  0.0 fire    \n",
       "20 not fire    2012-06-26 06    31          64 18  0.0 fire    \n",
       "21 not fire    2012-06-27 06    34          53 18  0.0 fire    \n",
       "22 fire        2012-06-28 06    32          55 14  0.0 fire    \n",
       "23 fire        2012-06-29 06    32          47 13  0.3 not fire\n",
       "24 fire        2012-06-30 06    33          50 14  0.0 fire    \n",
       "25 not fire    2012-07-01 07    29          68 19  1.0 not fire\n",
       "26 not fire    2012-07-02 07    27          75 19  1.2 not fire\n",
       "27 fire        2012-07-03 07    32          76 20  0.7 not fire\n",
       "28 fire        2012-07-06 07    32          63 14  0.0 fire    \n",
       "29 fire        2012-07-07 07    35          64 18  0.2 not fire\n",
       "30 fire        2012-07-08 07    33          68 19  0.0 fire    \n",
       "⋮  ⋮           ⋮          ⋮     ⋮           ⋮  ⋮  ⋮    ⋮       \n",
       "64 fire        2012-08-22 08    36          55 18  0.0 fire    \n",
       "65 not fire    2012-08-24 08    34          64 14  0.0 fire    \n",
       "66 fire        2012-08-25 08    35          60 15  0.0 fire    \n",
       "67 fire        2012-08-27 08    33          82 21  0.0 fire    \n",
       "68 not fire    2012-08-28 08    34          64 16  0.0 fire    \n",
       "69 fire        2012-08-29 08    35          48 18  0.0 fire    \n",
       "70 fire        2012-08-30 08    35          70 17  0.8 not fire\n",
       "71 not fire    2012-08-31 08    28          80 21 16.8 not fire\n",
       "72 not fire    2012-09-03 09    25          78 15  3.8 not fire\n",
       "73 not fire    2012-09-05 09    29          75 16  0.0 fire    \n",
       "74 not fire    2012-09-06 09    29          74 19  0.1 not fire\n",
       "75 fire        2012-09-08 09    30          73 17  0.9 not fire\n",
       "76 fire        2012-09-09 09    30          77 15  1.0 not fire\n",
       "77 fire        2012-09-10 09    33          73 12  1.8 not fire\n",
       "78 fire        2012-09-11 09    30          77 21  1.8 not fire\n",
       "79 not fire    2012-09-12 09    29          88 13  0.0 not fire\n",
       "80 not fire    2012-09-13 09    25          86 21  4.6 not fire\n",
       "81 not fire    2012-09-14 09    22          76 26  8.3 not fire\n",
       "82 fire        2012-09-16 09    30          65 14  0.0 not fire\n",
       "83 not fire    2012-09-17 09    31          52 14  0.0 fire    \n",
       "84 fire        2012-09-18 09    32          49 11  0.0 fire    \n",
       "85 not fire    2012-09-19 09    29          57 14  0.0 fire    \n",
       "86 not fire    2012-09-21 09    31          55 11  0.0 fire    \n",
       "87 fire        2012-09-23 09    32          54 11  0.5 not fire\n",
       "88 not fire    2012-09-25 09    26          81 21  5.8 not fire\n",
       "89 not fire    2012-09-26 09    31          54 11  0.0 not fire\n",
       "90 not fire    2012-09-27 09    31          66 11  0.0 fire    \n",
       "91 fire        2012-09-28 09    32          47 14  0.7 not fire\n",
       "92 not fire    2012-09-29 09    26          80 16  1.8 not fire\n",
       "93 not fire    2012-09-30 09    25          78 14  1.4 not fire"
      ]
     },
     "metadata": {},
     "output_type": "display_data"
    }
   ],
   "source": [
    "#Predict the labels in the test set\n",
    "fire_test_predictions <- predict(knn_fit, bejaia_test) %>%\n",
    "  bind_cols(bejaia_test)\n",
    "fire_test_predictions"
   ]
  },
  {
   "cell_type": "code",
   "execution_count": 16,
   "metadata": {},
   "outputs": [
    {
     "data": {
      "text/html": [
       "<table>\n",
       "<caption>A tibble: 2 × 3</caption>\n",
       "<thead>\n",
       "\t<tr><th scope=col>.metric</th><th scope=col>.estimator</th><th scope=col>.estimate</th></tr>\n",
       "\t<tr><th scope=col>&lt;chr&gt;</th><th scope=col>&lt;chr&gt;</th><th scope=col>&lt;dbl&gt;</th></tr>\n",
       "</thead>\n",
       "<tbody>\n",
       "\t<tr><td>accuracy</td><td>binary</td><td>0.6344086</td></tr>\n",
       "\t<tr><td>kap     </td><td>binary</td><td>0.2690707</td></tr>\n",
       "</tbody>\n",
       "</table>\n"
      ],
      "text/latex": [
       "A tibble: 2 × 3\n",
       "\\begin{tabular}{lll}\n",
       " .metric & .estimator & .estimate\\\\\n",
       " <chr> & <chr> & <dbl>\\\\\n",
       "\\hline\n",
       "\t accuracy & binary & 0.6344086\\\\\n",
       "\t kap      & binary & 0.2690707\\\\\n",
       "\\end{tabular}\n"
      ],
      "text/markdown": [
       "\n",
       "A tibble: 2 × 3\n",
       "\n",
       "| .metric &lt;chr&gt; | .estimator &lt;chr&gt; | .estimate &lt;dbl&gt; |\n",
       "|---|---|---|\n",
       "| accuracy | binary | 0.6344086 |\n",
       "| kap      | binary | 0.2690707 |\n",
       "\n"
      ],
      "text/plain": [
       "  .metric  .estimator .estimate\n",
       "1 accuracy binary     0.6344086\n",
       "2 kap      binary     0.2690707"
      ]
     },
     "metadata": {},
     "output_type": "display_data"
    }
   ],
   "source": [
    "#compute the accuracy\n",
    "fire_test_predictions %>%\n",
    "  metrics(truth = Classes, estimate = .pred_class)"
   ]
  },
  {
   "cell_type": "markdown",
   "metadata": {},
   "source": [
    "**Expected Outcomes and Signficance**\n",
    "\n",
    "We hope to predict when forest fires are more likely to occur by observing weather conditions. We expect that forest fires will be more likely at lower relative humidity, higher temperatures. \n",
    "\n",
    "These findings could help residents recognize forest fire conditions, which could result in less damage to property and fewer casualties. For example, during high-risk conditions, civilians may prepare for forest fires by creating emergency kits in case of evacuation, or farmers may trim lawns and tall vegetation to minimize damage (Weir, 2018). \n",
    "\n",
    "This data could lead to future questions, such as how the likelihood of forest fires differs between regions of Algeria. Taking data from other regions could help us better understand how climate conditions differ across Algeria, and how this variation in conditions affects the likelihood of forest fires. \n"
   ]
  },
  {
   "cell_type": "code",
   "execution_count": null,
   "metadata": {},
   "outputs": [],
   "source": []
  }
 ],
 "metadata": {
  "kernelspec": {
   "display_name": "R",
   "language": "R",
   "name": "ir"
  },
  "language_info": {
   "codemirror_mode": "r",
   "file_extension": ".r",
   "mimetype": "text/x-r-source",
   "name": "R",
   "pygments_lexer": "r",
   "version": "4.0.0"
  }
 },
 "nbformat": 4,
 "nbformat_minor": 4
}
